{
  "cells": [
    {
      "cell_type": "code",
      "execution_count": 18,
      "metadata": {},
      "outputs": [
        {
          "name": "stdout",
          "output_type": "stream",
          "text": [
            "Requirement already satisfied: faiss-cpu in c:\\users\\user\\desktop\\restorecommender\\.venv\\lib\\site-packages (1.8.0)\n",
            "Requirement already satisfied: numpy in c:\\users\\user\\desktop\\restorecommender\\.venv\\lib\\site-packages (from faiss-cpu) (1.26.4)\n"
          ]
        }
      ],
      "source": [
        "# !pip install -q langchain==0.1.0 langchain-community==0.0.12\n",
        "# !pip install -q langchainhub==0.1.14\n",
        "# !pip install -q faiss-cpu faiss-gpu\n",
        "# !pip install -U langsmith\n",
        "# !pip install -q pandas\n",
        "# !pip install -q python-dotenv\n",
        "# !pip install --upgrade --quiet  langchain-google-genai\n",
        "# !pip install faiss-cpu"
      ]
    },
    {
      "cell_type": "code",
      "execution_count": 1,
      "metadata": {
        "id": "IVZTYMYqhEyD"
      },
      "outputs": [
        {
          "name": "stderr",
          "output_type": "stream",
          "text": [
            "c:\\Users\\user\\Desktop\\RestoRecommender\\.venv\\Lib\\site-packages\\tqdm\\auto.py:21: TqdmWarning: IProgress not found. Please update jupyter and ipywidgets. See https://ipywidgets.readthedocs.io/en/stable/user_install.html\n",
            "  from .autonotebook import tqdm as notebook_tqdm\n"
          ]
        }
      ],
      "source": [
        "import pandas as pd\n",
        "from langchain.prompts import (\n",
        "    PromptTemplate,\n",
        "    SystemMessagePromptTemplate,\n",
        "    HumanMessagePromptTemplate,\n",
        "    ChatPromptTemplate,)\n",
        "from langchain_core.output_parsers import StrOutputParser\n",
        "from langchain_community.vectorstores import FAISS\n",
        "from langchain.schema.runnable import RunnablePassthrough\n",
        "from langchain_community.document_loaders.dataframe import DataFrameLoader\n",
        "from langchain.storage import LocalFileStore\n",
        "from langchain.embeddings import CacheBackedEmbeddings\n",
        "from langchain_google_genai import GoogleGenerativeAIEmbeddings, ChatGoogleGenerativeAI\n",
        "\n",
        "try:\n",
        "    from google.colab.userdata import get as getenv\n",
        "    print(\"Running in colab\")\n",
        "except ImportError:\n",
        "    from os import getenv\n",
        "    import dotenv\n",
        "    dotenv.load_dotenv()"
      ]
    },
    {
      "cell_type": "code",
      "execution_count": 2,
      "metadata": {},
      "outputs": [],
      "source": [
        "GOOGLE_API_KEY = getenv('GOOGLE_API_KEY')"
      ]
    },
    {
      "cell_type": "markdown",
      "metadata": {},
      "source": [
        "## Set up LangSmith"
      ]
    },
    {
      "cell_type": "code",
      "execution_count": 3,
      "metadata": {},
      "outputs": [],
      "source": [
        "LANGCHAIN_API_KEY = getenv('LANGCHAIN_API_KEY')\n",
        "LANGCHAIN_ENDPOINT = getenv('LANGCHAIN_ENDPOINT')\n",
        "assert LANGCHAIN_API_KEY, \"An API key for LangChainSmith is required to be set as <LANGCHAIN_API_KEY>.\""
      ]
    },
    {
      "cell_type": "markdown",
      "metadata": {
        "id": "1rzeDBNMoijW"
      },
      "source": [
        "## Constants"
      ]
    },
    {
      "cell_type": "code",
      "execution_count": 4,
      "metadata": {
        "id": "TeXyY2YLWqcD"
      },
      "outputs": [],
      "source": [
        "# Dataset files\n",
        "PLACES_PATH = \"data/places.csv\"\n",
        "REVIEWS_PATH = \"data/reviews.csv\"\n",
        "\n",
        "\n",
        "LLM_MODEL_NAME = \"gemini-1.5-flash\" #\"gemini-pro\"\n",
        "EMBEDDING_MODEL_NAME = \"models/text-embedding-004\"\n",
        "\n",
        "# Embeddings\n",
        "EMBEDDINGS_CACHE_STORE=\"./cache/\"\n",
        "\n",
        "# Faiss\n",
        "FAISS_REVIEWS_PATH_EUCLIDEAN = \"faiss_index_euclidean\"\n",
        "FAISS_REVIEWS_PATH_COSINE = \"faiss_index_cosine\"\n",
        "FAISS_INDEX_NAME = \"index\"\n",
        "FAISS_DISTANCE_STRATEGY_EUCLIDEAN ='EUCLIDEAN_DISTANCE'\n",
        "FAISS_DISTANCE_STRATEGY_COSINE = \"COSINE_DISTANCE\""
      ]
    },
    {
      "cell_type": "markdown",
      "metadata": {
        "id": "eUr5hUrPoijY"
      },
      "source": [
        "## Load Dataset\n",
        "\n",
        "Here we are using 2 csv files containing places (restuarants, bars, ...) info and reviews for each of them."
      ]
    },
    {
      "cell_type": "code",
      "execution_count": 5,
      "metadata": {
        "id": "aONHvzXAoijZ"
      },
      "outputs": [],
      "source": [
        "def get_documents(content_func=lambda row:row['review'],\n",
        "                  source_func=lambda row:row['place_id'],\n",
        "                  metadata_fields=[]):\n",
        "\n",
        "  # Load both data files\n",
        "  places_df = pd.read_csv(PLACES_PATH)\n",
        "  reviews_df = pd.read_csv(REVIEWS_PATH)\n",
        "  reviews_df.drop_duplicates(inplace=True)\n",
        "  places_df.drop_duplicates(inplace=True)\n",
        "\n",
        "  # merge them on 'place_id'\n",
        "  merged_df = pd.merge(places_df, reviews_df, on='place_id', how='inner')\n",
        "\n",
        "  # add page_content and source columns using their corresponing functions\n",
        "  merged_df['page_content'] = merged_df.apply(content_func, axis=1)\n",
        "  merged_df['source'] = merged_df.apply(source_func, axis=1)\n",
        "\n",
        "  # update metadata_fields with 'page_content', 'source'\n",
        "  metadata_fields = list(set(metadata_fields + ['page_content', 'source']))\n",
        "\n",
        "  loader = DataFrameLoader(merged_df[metadata_fields],page_content_column='page_content')\n",
        "  return loader.load()"
      ]
    },
    {
      "cell_type": "code",
      "execution_count": 6,
      "metadata": {
        "id": "E5jUkJ8XoijZ"
      },
      "outputs": [],
      "source": [
        "# def content_func(row) -> str:\n",
        "#   content_fields = ['place_name', 'place_types', 'place_address', 'place_average_ratings', 'review']\n",
        "#   return '\\n'.join(f\"{key}={row[key]}\" for key in content_fields)\n",
        "\n",
        "def content_func(row) -> str:\n",
        "  content_fields = [\"place_name\",\n",
        "                    \"review\",\n",
        "                    \"place_address\",\n",
        "                    \"place_average_ratings\",\n",
        "                    \"place_price_level\",\n",
        "                    \"place_primary_type\",\n",
        "                    \"has_delivery\",\n",
        "                    \"is_reservable\",\n",
        "                    ]\n",
        "  return '\\n'.join(f\"{key}={row[key]}\" for key in content_fields)\n",
        "\n",
        "metadata_fields = [\"places_opening_hours\", \"place_website\", \"place_phone_number\",]\n",
        "\n",
        "documents = get_documents(content_func, metadata_fields=metadata_fields)"
      ]
    },
    {
      "cell_type": "code",
      "execution_count": 28,
      "metadata": {
        "colab": {
          "base_uri": "https://localhost:8080/"
        },
        "id": "WH4HR9emoijZ",
        "outputId": "fa47e9ba-3bdf-4c36-c553-300479119540"
      },
      "outputs": [
        {
          "name": "stdout",
          "output_type": "stream",
          "text": [
            "{'source': 'ChIJORN_mdnbfkcRq7g9fQtODbE', 'places_opening_hours': \"['Monday: Closed', 'Tuesday: 7:00\\\\u2009–\\\\u200911:00\\\\u202fPM', 'Wednesday: 7:00\\\\u2009–\\\\u200911:00\\\\u202fPM', 'Thursday: 12:00\\\\u2009–\\\\u20093:00\\\\u202fPM, 7:00\\\\u2009–\\\\u200911:00\\\\u202fPM', 'Friday: 12:00\\\\u2009–\\\\u20093:00\\\\u202fPM, 7:00\\\\u2009–\\\\u200911:00\\\\u202fPM', 'Saturday: 12:00\\\\u2009–\\\\u20093:00\\\\u202fPM, 7:00\\\\u2009–\\\\u200911:00\\\\u202fPM', 'Sunday: 12:00\\\\u2009–\\\\u20093:00\\\\u202fPM, 7:00\\\\u2009–\\\\u200911:00\\\\u202fPM']\", 'place_website': nan, 'place_phone_number': '+39 347 360 4372'}\n"
          ]
        }
      ],
      "source": [
        "## Take a look at a sample document\n",
        "#print(documents[0].page_content)\n",
        "print(documents[0].metadata)"
      ]
    },
    {
      "cell_type": "markdown",
      "metadata": {
        "id": "wLU4f9yqoija"
      },
      "source": [
        "## Load Embeddings model"
      ]
    },
    {
      "cell_type": "code",
      "execution_count": 7,
      "metadata": {},
      "outputs": [],
      "source": [
        "embedding_model = GoogleGenerativeAIEmbeddings(model=EMBEDDING_MODEL_NAME)"
      ]
    },
    {
      "cell_type": "code",
      "execution_count": 21,
      "metadata": {},
      "outputs": [],
      "source": [
        "result = embedding_model.embed_query(\"One sample query!\")"
      ]
    },
    {
      "cell_type": "code",
      "execution_count": 22,
      "metadata": {},
      "outputs": [
        {
          "data": {
            "text/plain": [
              "[0.013445205986499786, 0.0329967699944973, -0.05730990320444107, -0.0063919429667294025, 0.050566721707582474, 0.05204957723617554, 0.055957403033971786, 0.0265039149671793, -0.024919943884015083, -0.027119487524032593, -0.03403162956237793, -0.013598410412669182, 0.051470912992954254, -0.004248139914125204, 0.05007483437657356, -0.0025721651036292315, 0.027495834976434708, 0.06033796817064285, -0.10426695644855499, -0.03967343643307686, 0.04659663513302803, -0.022009238600730896, -0.030126888304948807, -0.03678601607680321, 0.03226298838853836, -0.019800592213869095, 0.012412684969604015, 0.0036472331266850233, 0.028147641569375992, -0.0005324278026819229, 0.0010376356076449156, 0.028569789603352547, -0.00806627981364727, -0.03816157579421997, -0.007220468949526548, 0.02569526433944702, 0.003935983404517174, 0.00042540504364296794, -0.005441155284643173, -0.0658370703458786, -0.004332046955823898, 0.05903252214193344, -0.05452469736337662, 0.03064827062189579, -0.020227117463946342, -0.025708889588713646, 0.02399938926100731, -0.002033613622188568, -0.059631552547216415, 0.06180979683995247, 0.05362418666481972, 0.042432110756635666, -0.05268893018364906, 0.010093298740684986, -0.007256155367940664, 0.006598421838134527, -0.011045902967453003, -0.048747468739748, 0.0662301629781723, 0.03210242837667465, 0.03059808909893036, -0.0015469174832105637, 0.030273789539933205, 0.004513206426054239, 0.001923391711898148, -0.0023099551908671856, -0.03429407253861427, 0.05470746383070946, 0.0013725204626098275, 0.021524552255868912, 0.012785637751221657, 0.06023596227169037, -0.027003010734915733, 0.012772301211953163, 0.009177275002002716, -0.0010964898392558098, 0.007423837203532457, -0.01798129267990589, 0.033963028341531754, -0.0023005420807749033, -0.05690717324614525, 0.04551227018237114, 0.07537432014942169, 0.07641299068927765, -0.029919667169451714, -0.011299987323582172, -0.003497657598927617, -0.017405174672603607, 0.008453424088656902, -0.013552039861679077, 0.046709612011909485, -0.007312468718737364, -0.0647311732172966, 0.007052454631775618, 0.045059822499752045, -0.043518442660570145, -0.05692301318049431, -0.1124996691942215, 0.028227517381310463, 0.04898158833384514, 0.010403941385447979, 0.025994418188929558, 0.049101900309324265, -0.07372947782278061, 0.06374827772378922, 0.04936448857188225, -0.049721669405698776, 0.029265280812978745, -0.03474785014986992, -0.02955232374370098, 0.0229916051030159, -0.03222713991999626, 0.003909459337592125, -0.05080645531415939, 0.007236379198729992, -0.06744692474603653, -0.055237915366888046, 0.049456801265478134, -0.014804068952798843, -0.03349452093243599, 0.01676105707883835, 0.06049680709838867, -0.007217968348413706, 0.047422654926776886, 0.04822281375527382, 0.01798439584672451, 0.02279401570558548, 0.027639830484986305, -0.034920938313007355, -0.05855065584182739, 0.04312802478671074, -0.05213049799203873, 0.02839147113263607, 0.012765223160386086, -0.04302617907524109, 0.011284307576715946, 0.07609368115663528, -0.018885111436247826, -0.04581829160451889, 0.03630596026778221, 0.007978885434567928, 0.04414297267794609, -0.09910184144973755, 0.006824802607297897, 0.019224977120757103, -0.045417655259370804, 0.035269320011138916, 0.07663621008396149, 0.03071623668074608, -0.02865988202393055, -0.03875988349318504, -0.008050142787396908, 0.021028468385338783, -0.04236965253949165, -0.018640151247382164, 0.02947181649506092, 0.041009239852428436, -0.0033223514910787344, 0.05129316821694374, 0.013134663924574852, -0.05878712236881256, -0.047048281878232956, 0.0637720450758934, -0.04390392452478409, -0.05107417702674866, -0.022651033475995064, -0.007372522726655006, -0.09618141502141953, 0.03741610795259476, -0.04611781984567642, 0.008470255881547928, -0.05961146950721741, -0.03150223568081856, 0.0010247215395793319, 0.007822834886610508, -0.0398247055709362, -0.06582419574260712, -0.06407929211854935, -0.03163560479879379, -0.02524418570101261, 0.06603588908910751, 0.03002161532640457, 0.047887157648801804, -0.0399886816740036, 0.0006295561324805021, -0.016902325674891472, -0.0025055627338588238, 0.033737484365701675, 0.010570080950856209, 0.09037360548973083, -0.08118336647748947, -0.028556479141116142, -0.029732823371887207, -0.00016908461111597717, 0.009289417415857315, 0.06327389925718307, 0.017296576872467995, -0.07780026644468307, 0.016688767820596695, 0.0028649261221289635, 0.03330456092953682, 0.024605894461274147, -0.028483783826231956, 0.007918001152575016, 0.03101676143705845, 0.03435009345412254, -0.053432874381542206, -0.04034004732966423, 0.011455935426056385, -0.02068445272743702, 0.052887555211782455, -0.06522051244974136, 0.016992339864373207, -0.05184955894947052, 0.039767950773239136, -0.0012176113668829203, 0.025172343477606773, -0.0021719972137361765, 0.029124218970537186, 0.002400704426690936, 0.019288983196020126, -0.003397885011509061, 0.013402854092419147, 0.0709972083568573, 0.011659596115350723, 0.02700665406882763, 0.004152242094278336, 0.003138958243653178, -0.05859503522515297, -0.04121289402246475, -0.030453870072960854, 0.06971905380487442, 0.028036149218678474, -0.013621949590742588, -0.018771465867757797, 0.06832657754421234, 0.07086476683616638, -0.016256220638751984, -0.026494652032852173, -0.030187202617526054, 0.015219384804368019, 0.054533641785383224, 0.0033444513101130724, -0.01775757409632206, -0.016798363998532295, 0.045956090092659, 0.041723184287548065, 0.020111214369535446, 0.025691010057926178, -0.023761354386806488, -0.02167133241891861, 0.006103655323386192, -0.044192466884851456, -0.014672964811325073, -0.045207805931568146, -0.040259528905153275, -0.02687828056514263, 0.013407556340098381, 0.035640113055706024, -0.0043968926183879375, 0.029729792848229408, -0.04468206688761711, -0.024813691154122353, -0.06859205663204193, -0.043880682438611984, -0.07557030767202377, -0.015216431580483913, 0.0531950443983078, 0.003292166395112872, -0.0015637738397344947, -0.0058578201569616795, -0.018328243866562843, -0.007521301042288542, -0.050593554973602295, -0.016853490844368935, -0.003942881245166063, -0.006129003129899502, 0.006927500478923321, -0.058258455246686935, -0.03691798821091652, 0.013881225138902664, 0.0013081628130748868, -0.02124084159731865, -0.01811111532151699, -0.032826751470565796, -0.0710594654083252, -0.016351744532585144, -0.0051610954105854034, -0.03631788492202759, -0.0032265044283121824, 0.048424094915390015, 0.03049374558031559, 0.013135718181729317, -0.027276990935206413, 0.026538347825407982, 0.028886737301945686, 0.04691746085882187, 0.02729516103863716, 0.07988342642784119, -0.008314879611134529, 0.007060288917273283, 0.037997402250766754, -0.021747509017586708, 0.0064010838977992535, -0.03487694635987282, -0.011644065380096436, -0.04364534839987755, -0.0440983884036541, -0.007486115675419569, 0.017564309760928154, 0.050742268562316895, 0.030668267980217934, 0.03331470116972923, 0.012570849619805813, -0.004756397567689419, 0.02358696237206459, -0.0935349240899086, -0.056358885020017624, -0.026531439274549484, -0.02818065509200096, 0.031146565452218056, -0.024475187063217163, -0.046656206250190735, 0.003391801379621029, 0.051627613604068756, 0.014866575598716736, 0.013589603826403618, 0.03300505876541138, 0.012088034301996231, -0.017421647906303406, 0.029161294922232628, 0.022543026134371758, 0.04946599528193474, -0.05268337205052376, 0.032547712326049805, 0.05676620453596115, -0.054934121668338776, 0.026378201320767403, 0.06497766077518463, -0.006378783378750086, 0.046218253672122955, 0.009199695661664009, 0.043227795511484146, 0.057817406952381134, -0.016390185803174973, -0.02698766626417637, 0.04018415883183479, -0.0287038441747427, -0.009534399956464767, -0.03645388036966324, 0.0011694100685417652, -0.009562180377542973, 0.06764499098062515, -0.01279646996408701, -0.019502809271216393, 0.034230928868055344, 0.012734107673168182, 0.03988071158528328, 0.024646854028105736, 0.02231197990477085, 0.006343739572912455, 0.0066665238700807095, -0.055904436856508255, 0.016673576086759567, -0.0355263389647007, -0.020149610936641693, 0.042585864663124084, 0.02292914316058159, -0.05388553440570831, 0.00923509057611227, -0.008802235126495361, 0.019796542823314667, -0.02676425501704216, -0.038284532725811005, 0.011627710424363613, -0.0011215595295652747, -0.05931168794631958, -0.013992714695632458, 0.06477956473827362, -0.05652454495429993, -0.06408248841762543, -0.03528880700469017, 0.011318585835397243, 0.008668482303619385, -0.018735656514763832, 0.05807303264737129, -0.041080277413129807, 0.02122706174850464, -0.017071450129151344, -0.05505330115556717, -0.044265296310186386, 0.041045259684324265, 0.07670866698026657, 0.03277179226279259, 0.027768580242991447, -0.01103675365447998, 0.024732528254389763, -0.010245047509670258, -0.005559744779020548, 0.012367745861411095, -0.0024458267726004124, -0.014525102451443672, 0.0007003539940342307, -0.0029156822711229324, -0.005415347870439291, 0.012918492779135704, 0.10592450946569443, 0.05586225166916847, -0.011895010247826576, 0.01405624020844698, -0.03578179329633713, -0.043571390211582184, -0.041655052453279495, 0.02109658718109131, -0.026341967284679413, -0.019958101212978363, 0.032042864710092545, 0.008678990416228771, 0.00038355239666998386, -0.007314089685678482, -0.005140088032931089, 0.01442178338766098, 0.017109449952840805, -0.027222761884331703, -0.003111480036750436, -0.06059280037879944, -0.0680944174528122, -0.02414684370160103, -0.006120631471276283, -0.013446700759232044, 0.02620888501405716, 0.022519778460264206, -0.04268956556916237, 0.05662737786769867, -0.022937683388590813, -0.03183760866522789, 0.016301242634654045, -0.005968110635876656, -0.0012551165418699384, 0.021907659247517586, -0.03026549331843853, -0.02417324297130108, 0.008742447942495346, 0.06098410114645958, -0.01325942948460579, 0.018821295350790024, -0.054630354046821594, -0.003810720983892679, -0.014622875489294529, -0.05975785478949547, 0.04519447311758995, 0.0024261779617518187, 0.018150748685002327, -0.00496421055868268, -0.04109131544828415, 0.030802568420767784, -0.04638393223285675, 0.021376684308052063, 0.00024881307035684586, 0.033055007457733154, 0.001049287267960608, 0.027979284524917603, 0.07723387330770493, 0.022827070206403732, -0.01836368441581726, -0.018956176936626434, -0.03999839723110199, 0.001537917647510767, -0.016874592751264572, 0.004836267791688442, 0.04123041406273842, 0.04219300299882889, -0.00021870942146051675, -0.01740683987736702, -0.054937299340963364, 0.05810587480664253, 0.042673829942941666, -0.0036004099529236555, -0.03628139942884445, 0.02978275902569294, -0.04638111963868141, 0.0008894887869246304, 0.003876720555126667, 0.0009187802788801491, 0.06732387840747833, -0.00032887703855521977, -0.051270417869091034, 0.0027070408686995506, -0.0037948591634631157, -0.00044627898023463786, 0.013690887950360775, 0.029843511059880257, 0.03639134392142296, -0.0034750106278806925, -0.01681484840810299, -0.06115419790148735, 0.01908888667821884, 0.021160650998353958, 0.012388412840664387, 0.041722748428583145, 0.01815931499004364, 0.041537582874298096, 0.035487521439790726, -0.04418886825442314, -0.05790902301669121, -0.048413317650556564, -0.060628004372119904, -0.02818966656923294, 0.02774573117494583, 0.025794191285967827, 0.022596396505832672, 0.010865584015846252, 0.08024091273546219, 0.009810534305870533, 0.03347575664520264, 0.03261437267065048, -0.02879171073436737, 0.03937444090843201, -0.02809380367398262, 0.05774114653468132, -0.03857256844639778, 0.01480988971889019, 0.05823095887899399, 0.008806642144918442, 0.005187182687222958, -0.00978103931993246, 0.0029258059803396463, 0.01669720560312271, 0.03171638026833534, -0.018987076357007027, -0.010224561206996441, 0.055383265018463135, 0.030958686023950577, 0.019626114517450333, -0.014776336029171944, 0.06485649198293686, 0.053314607590436935, 0.039353251457214355, -0.00013413751730695367, -0.016563856974244118, 0.015617155469954014, -0.001803744351491332, 0.005369637161493301, 0.026711152866482735, 0.023213231936097145, 0.003971088211983442, 0.011855842545628548, 0.012298749759793282, -0.018659083172678947, 0.04358317703008652, -0.07061582803726196, -0.01664731465280056, -0.013822605833411217, 0.014808851294219494, 0.05745023488998413, -0.014051568694412708, 0.006791649851948023, 0.05056196451187134, -0.050349779427051544, -0.01825949363410473, 0.07864538580179214, -0.01915151998400688, -0.017682109028100967, -0.028797267004847527, -0.029543405398726463, -0.02709818445146084, -0.009130065329372883, 0.008172247558832169, 0.019726010039448738, -0.012205390259623528, -0.008646709844470024, 0.003004353027790785, 0.03494943305850029, -0.07032009959220886, 0.07397723942995071, 0.02266044169664383, -0.012628334574401379, 0.019613979384303093, 0.07163369655609131, -0.026820024475455284, -0.00584598071873188, -0.0013323725434020162, 0.10301818698644638, -0.008135530166327953, -0.0015016585821285844, -0.011823434382677078, 0.03388240560889244, -0.05348460003733635, 0.06885886937379837, 0.019157804548740387, 0.013000006787478924, 0.05782458186149597, 0.002840670756995678, -0.05332723632454872, 0.026813264936208725, -0.005375255830585957, -0.011640463024377823, 0.024561092257499695, 0.02384813129901886, 0.016724269837141037, 0.0014062966220080853, -0.023613853380084038, 0.01750504970550537, -0.04872667416930199, -0.020294951274991035, -0.03822604939341545, -0.013051166199147701, -0.04808240756392479, -0.024473348632454872, -0.02837616577744484, 0.03896624967455864, -1.8937404092866927e-05, -0.006262962706387043, -0.009120083414018154, -0.06300763040781021, 0.06837350130081177, -0.03478548675775528, -0.01021548267453909, -0.008685385808348656, 0.030570324510335922, 0.04306761175394058, 0.036841005086898804, 0.01379772275686264, -0.022321980446577072, -0.00206059985794127, 0.014050298370420933, -0.005621432326734066, 0.032158516347408295, 0.027093971148133278, 0.03783952072262764, -0.03360734134912491, 0.01780160330235958, -0.00927830021828413, -0.03028041683137417, -0.013740568421781063, 0.0610366128385067, -0.05487045273184776, 0.021107139065861702, 0.006306127645075321, -0.023084765300154686, -0.02706284075975418, 0.05179727450013161, 0.07019277662038803, 0.053961314260959625, -0.04067150875926018, 0.06015613675117493, 0.04962274804711342, 0.004781408701092005, 0.0271636713296175, 0.004654799122363329, 0.02796374447643757, 0.08828061819076538, 0.014080792665481567, -0.02771194651722908, -0.016830019652843475, 0.017722666263580322, -0.014027304947376251, -0.016995863988995552, -0.014546078629791737, 0.018406810238957405, 0.009628542698919773, -0.028667818754911423, 0.024700213223695755, 0.006503018084913492, -0.06061548367142677, 0.02896965853869915, -0.03183579444885254, 0.0066806781105697155, -0.008342698216438293, -0.06182794272899628, 0.0019398231524974108, -0.04455114156007767, -0.0028375976253300905, 0.0010308300843462348, 0.014655322767794132, 0.0019204339478164911, -0.003386419266462326, -0.012749786488711834, -0.039816807955503464, 0.05875591188669205, 0.0011249069357290864, 0.019155267626047134, 0.0013631059555336833, -0.03759859502315521, 0.0050669340416789055, 0.023406827822327614, -0.03084265999495983, -0.05954074487090111, 0.016272444278001785, -0.06150690093636513, 0.02086319774389267, 0.006155491806566715, 0.0036343152169138193, -0.011297141201794147, -0.03241328150033951, 0.05721261352300644, -0.020295239984989166, 0.025109924376010895, -0.034570712596178055, 0.004944837652146816, -0.09457021951675415, -0.0331517718732357, -0.0033243836369365454, 0.014884540811181068, 0.035615887492895126, 0.014596788212656975, 0.03611355647444725, -0.0068548317067325115, -0.051169294863939285, -0.035973504185676575, -0.052738841623067856, -0.0206221304833889, 0.03981901705265045, 0.018980098888278008, 0.000476518296636641, 0.02414439059793949, 0.038157884031534195, 0.04667859524488449, 0.0053628054447472095, 0.016228295862674713, 0.0024029104970395565, -0.012390730902552605, 0.06082790717482567, 0.07952189445495605, 0.04251038655638695, -0.02330085262656212, -0.031335536390542984, 0.02848859690129757, -0.06315913051366806, 0.0022070470731705427, 0.018169881775975227, -0.004456570837646723, -0.05342661589384079, 0.02208453044295311, 0.007947327569127083, 0.028684042394161224, 0.006291788071393967, 0.028377210721373558, -0.040611572563648224, 0.015573585405945778, 0.05319535359740257, -0.050839100033044815, -0.011182695627212524, -0.025035221129655838, 0.020795010030269623, -0.0024657773319631815, -0.0117989806458354, -0.017629293724894524, -0.00998864695429802, -0.02819054387509823, 0.013325309380888939, -0.05676988139748573, 0.03791752830147743, 0.004617375787347555, 0.030184945091605186, -0.023823101073503494, 0.010138105601072311, -0.03187838941812515, -0.007100393064320087, -0.010122481733560562, 0.0013682543067261577, 0.03680133447051048, -0.08360007405281067, 0.012663655914366245, -0.014852769672870636, -0.003009379142895341, 0.06809084117412567, 0.00029586220625787973]"
            ]
          },
          "execution_count": 22,
          "metadata": {},
          "output_type": "execute_result"
        }
      ],
      "source": [
        "result"
      ]
    },
    {
      "cell_type": "code",
      "execution_count": 9,
      "metadata": {},
      "outputs": [
        {
          "name": "stdout",
          "output_type": "stream",
          "text": [
            "embedding shape: (768,)\n",
            "embedding norm: 0.9999993842289441\n"
          ]
        }
      ],
      "source": [
        "import numpy as np\n",
        "array = np.array(result)\n",
        "print(f\"embedding shape: {array.shape}\\nembedding norm: {np.linalg.norm(array, ord=2)}\")"
      ]
    },
    {
      "cell_type": "markdown",
      "metadata": {
        "id": "yZU69PxDoijg"
      },
      "source": [
        "## Create FAISS (Vector Database)"
      ]
    },
    {
      "cell_type": "code",
      "execution_count": 14,
      "metadata": {
        "id": "ClgYJkU5oijj"
      },
      "outputs": [],
      "source": [
        "def get_vector_database(documents, embedding_model, distance_strategy):\n",
        "\n",
        "  vector_database = FAISS.from_documents(\n",
        "      documents, embedding_model,\n",
        "      distance_strategy= distance_strategy\n",
        "      )\n",
        "  return vector_database"
      ]
    },
    {
      "cell_type": "code",
      "execution_count": 18,
      "metadata": {},
      "outputs": [],
      "source": [
        "import time\n",
        "doclen = len(documents)\n",
        "for batch in range(doclen//100 + 1):\n",
        "    docs = documents[batch*100:(batch+1)*100]\n",
        "    if batch ==0:\n",
        "        vector_db = get_vector_database(docs, embedding_model, FAISS_DISTANCE_STRATEGY_COSINE)\n",
        "    else:\n",
        "\n",
        "        vector_db.merge_from(get_vector_database(docs, embedding_model, FAISS_DISTANCE_STRATEGY_COSINE))\n",
        "    time.sleep(10) # Sleep for 10 seconds to avoid hitting rate limits"
      ]
    },
    {
      "cell_type": "code",
      "execution_count": 20,
      "metadata": {},
      "outputs": [],
      "source": [
        "vector_db.save_local(folder_path=FAISS_REVIEWS_PATH_COSINE, index_name=FAISS_INDEX_NAME)"
      ]
    },
    {
      "cell_type": "code",
      "execution_count": 10,
      "metadata": {},
      "outputs": [],
      "source": [
        "vector_db = FAISS.load_local(folder_path=FAISS_REVIEWS_PATH_EUCLIDEAN,\n",
        "                             embeddings=embedding_model,\n",
        "                             index_name=FAISS_INDEX_NAME\n",
        "                             )"
      ]
    },
    {
      "cell_type": "code",
      "execution_count": 22,
      "metadata": {},
      "outputs": [
        {
          "name": "stdout",
          "output_type": "stream",
          "text": [
            "page_content='place_name=Pizzeria Al Quadrifoglio\\nreview=Excellent pizza, now I consider it as the comparison for all the other pizzas I order in other places, unfortunately it is always unattainable. Congratulations to the head pizza chef even if he has few words.\\nplace_address=Via Dante Alighieri, 4/a, 35020 Ponte San Nicolò PD, Italy\\nplace_average_ratings=4.2\\nplace_price_level=PRICE_LEVEL_INEXPENSIVE\\nplace_primary_type=pizza_restaurant\\nhas_delivery=True\\nis_reservable=True' metadata={'places_opening_hours': \"['Monday: Closed', 'Tuesday: 6:00\\\\u2009–\\\\u200910:00\\\\u202fPM', 'Wednesday: 6:00\\\\u2009–\\\\u200910:00\\\\u202fPM', 'Thursday: 6:00\\\\u2009–\\\\u200910:00\\\\u202fPM', 'Friday: 6:00\\\\u2009–\\\\u200910:00\\\\u202fPM', 'Saturday: 6:00\\\\u2009–\\\\u200910:00\\\\u202fPM', 'Sunday: 6:00\\\\u2009–\\\\u200910:00\\\\u202fPM']\", 'place_website': 'https://m.facebook.com/PizzeriaAlQuadrifoglio/', 'place_phone_number': '+39 049 717742', 'source': 'ChIJnS7Ewr7EfkcRqlfUIy8hk6c'}\n",
            "\n",
            "page_content='place_name=Ristorante Pizzeria al Saraceno\\nreview=Probably one of the best Pizzeria in town. Over 30 different types of pizza. Friendly and professional staff.\\nplace_address=Via Giovanni Canestrini, 4, 35127 Padova PD, Italy\\nplace_average_ratings=4.0\\nplace_price_level=PRICE_LEVEL_INEXPENSIVE\\nplace_primary_type=restaurant\\nhas_delivery=False\\nis_reservable=True' metadata={'places_opening_hours': \"['Monday: Closed', 'Tuesday: 12:00\\\\u2009–\\\\u20092:00\\\\u202fPM, 6:30\\\\u202fPM\\\\u2009–\\\\u200912:00\\\\u202fAM', 'Wednesday: 12:00\\\\u2009–\\\\u20092:00\\\\u202fPM, 6:30\\\\u202fPM\\\\u2009–\\\\u200912:00\\\\u202fAM', 'Thursday: 12:00\\\\u2009–\\\\u20092:00\\\\u202fPM, 6:30\\\\u202fPM\\\\u2009–\\\\u200912:00\\\\u202fAM', 'Friday: 12:00\\\\u2009–\\\\u20092:00\\\\u202fPM, 6:30\\\\u202fPM\\\\u2009–\\\\u200912:00\\\\u202fAM', 'Saturday: 12:00\\\\u2009–\\\\u20092:00\\\\u202fPM, 6:30\\\\u202fPM\\\\u2009–\\\\u200912:00\\\\u202fAM', 'Sunday: 12:00\\\\u2009–\\\\u20092:00\\\\u202fPM, 6:30\\\\u202fPM\\\\u2009–\\\\u200912:00\\\\u202fAM']\", 'place_website': nan, 'place_phone_number': '+39 049 755601', 'source': 'ChIJdVJMTALbfkcReA6sL0bVQug'}\n",
            "\n",
            "page_content='place_name=Pizzeria Savonarola\\nreview=The best pizza and the best service in town! Highly recommend!\\nplace_address=Via Savonarola, 38, 35137 Padova PD, Italy\\nplace_average_ratings=4.4\\nplace_price_level=PRICE_LEVEL_INEXPENSIVE\\nplace_primary_type=pizza_restaurant\\nhas_delivery=True\\nis_reservable=True' metadata={'places_opening_hours': \"['Monday: Closed', 'Tuesday: 12:30\\\\u2009–\\\\u20092:30\\\\u202fPM, 7:30\\\\u202fPM\\\\u2009–\\\\u200912:00\\\\u202fAM', 'Wednesday: 12:30\\\\u2009–\\\\u20092:30\\\\u202fPM, 7:30\\\\u202fPM\\\\u2009–\\\\u200912:00\\\\u202fAM', 'Thursday: 12:30\\\\u2009–\\\\u20092:30\\\\u202fPM, 7:30\\\\u202fPM\\\\u2009–\\\\u200912:00\\\\u202fAM', 'Friday: 12:30\\\\u2009–\\\\u20092:30\\\\u202fPM, 7:30\\\\u202fPM\\\\u2009–\\\\u200912:00\\\\u202fAM', 'Saturday: 7:00\\\\u202fPM\\\\u2009–\\\\u200912:00\\\\u202fAM', 'Sunday: 7:00\\\\u202fPM\\\\u2009–\\\\u200912:00\\\\u202fAM']\", 'place_website': 'http://www.savonarola-pizzeria-trattoria.it/', 'place_phone_number': '+39 049 875 9128', 'source': 'ChIJizyZQUTafkcRJmcdbJCiBlY'}\n",
            "\n",
            "page_content='place_name=New Pizza\\nreview=Really delicious pizza, not too thin, with strong flavours. Absolute punctuality in deliveries, even tonight despite the storm and the friendliness of the delivery boy, scores 101 points. New favorite Pizzeria in the area\\nplace_address=Piazzetta Giovanelli, 56, 35027 Noventana PD, Italy\\nplace_average_ratings=4.0\\nplace_price_level=PRICE_LEVEL_INEXPENSIVE\\nplace_primary_type=meal_takeaway\\nhas_delivery=True\\nis_reservable=True' metadata={'places_opening_hours': \"['Monday: 6:00\\\\u2009–\\\\u200910:00\\\\u202fPM', 'Tuesday: Closed', 'Wednesday: 6:00\\\\u2009–\\\\u200910:00\\\\u202fPM', 'Thursday: 6:00\\\\u2009–\\\\u200910:00\\\\u202fPM', 'Friday: 6:00\\\\u2009–\\\\u200910:00\\\\u202fPM', 'Saturday: 6:00\\\\u2009–\\\\u200910:00\\\\u202fPM', 'Sunday: 6:00\\\\u2009–\\\\u200910:00\\\\u202fPM']\", 'place_website': nan, 'place_phone_number': '+39 049 893 4153', 'source': 'ChIJMV_ibEjFfkcRI468Woetuaw'}\n",
            "\n",
            "page_content='place_name=Crazy Pizza\\nreview=Best pizza ever\\nplace_address=Via Jacopo Filiasi, 2F, 35128 Padova PD, Italy\\nplace_average_ratings=4.5\\nplace_price_level=PRICE_LEVEL_INEXPENSIVE\\nplace_primary_type=meal_takeaway\\nhas_delivery=True\\nis_reservable=True' metadata={'places_opening_hours': \"['Monday: 6:30\\\\u2009–\\\\u200910:30\\\\u202fPM', 'Tuesday: Closed', 'Wednesday: 6:30\\\\u2009–\\\\u200910:30\\\\u202fPM', 'Thursday: 6:30\\\\u2009–\\\\u200910:30\\\\u202fPM', 'Friday: 6:30\\\\u2009–\\\\u200910:30\\\\u202fPM', 'Saturday: 6:30\\\\u2009–\\\\u200910:30\\\\u202fPM', 'Sunday: 6:30\\\\u2009–\\\\u200910:30\\\\u202fPM']\", 'place_website': 'https://www.crazypizza.info/listino/', 'place_phone_number': '+39 049 751472', 'source': 'ChIJ46l-Px7bfkcR4E_2pyKzHvY'}\n",
            "\n"
          ]
        }
      ],
      "source": [
        "docs = vector_db.similarity_search(\"Give me information about some of the best pizza restaurant in the city?\", k = 5)\n",
        "for doc in docs:\n",
        "    print(doc, end=\"\\n\\n\")"
      ]
    },
    {
      "cell_type": "code",
      "execution_count": 23,
      "metadata": {},
      "outputs": [
        {
          "name": "stdout",
          "output_type": "stream",
          "text": [
            "page_content='place_name=Enoteca Barcollo\\nreview=The only positive thing is the location. For the rest, exorbitant prices, very small doses in microscopic wine glasses, 20cc Coca-Cola, supermarket Ichnusa beers, bread to be paid for separately and no appetizers. The two owners brought their rudeness with them from the winter headquarters. Over the years we have sometimes decided to go to the place, even knowing that there was always the risk of being mistreated, because they had good wine. Now the wine is no longer good and they are so arrogant with customers that it is offensive. Anyone who pays hard cash has the right to at least respect; wanting to be subtle, he would also be entitled to suitable portions, pleasant flavors and proportionate prices.\\nplace_address=Via Alessandro Guidi, 23, 35142 Padova PD, Italy\\nplace_average_ratings=4.3\\nplace_price_level=PRICE_LEVEL_MODERATE\\nplace_primary_type=bar\\nhas_delivery=False\\nis_reservable=True' metadata={'places_opening_hours': \"['Monday: Closed', 'Tuesday: Closed', 'Wednesday: 6:00\\\\u2009–\\\\u200911:00\\\\u202fPM', 'Thursday: 6:00\\\\u2009–\\\\u200911:00\\\\u202fPM', 'Friday: 6:00\\\\u2009–\\\\u200911:00\\\\u202fPM', 'Saturday: 6:00\\\\u2009–\\\\u200911:00\\\\u202fPM', 'Sunday: 6:00\\\\u2009–\\\\u200911:00\\\\u202fPM']\", 'place_website': nan, 'place_phone_number': '+39 393 082 6866', 'source': 'ChIJwzs5vKLbfkcRp43hqXskPKw'}\n",
            "\n",
            "page_content='place_name=Enoteca Barcollo\\nreview=Top\\nplace_address=Via Alessandro Guidi, 23, 35142 Padova PD, Italy\\nplace_average_ratings=4.3\\nplace_price_level=PRICE_LEVEL_MODERATE\\nplace_primary_type=bar\\nhas_delivery=False\\nis_reservable=True' metadata={'places_opening_hours': \"['Monday: Closed', 'Tuesday: Closed', 'Wednesday: 6:00\\\\u2009–\\\\u200911:00\\\\u202fPM', 'Thursday: 6:00\\\\u2009–\\\\u200911:00\\\\u202fPM', 'Friday: 6:00\\\\u2009–\\\\u200911:00\\\\u202fPM', 'Saturday: 6:00\\\\u2009–\\\\u200911:00\\\\u202fPM', 'Sunday: 6:00\\\\u2009–\\\\u200911:00\\\\u202fPM']\", 'place_website': nan, 'place_phone_number': '+39 393 082 6866', 'source': 'ChIJwzs5vKLbfkcRp43hqXskPKw'}\n",
            "\n",
            "page_content='place_name=Enoteca Barcollo\\nreview=Brave!\\nplace_address=Via Alessandro Guidi, 23, 35142 Padova PD, Italy\\nplace_average_ratings=4.3\\nplace_price_level=PRICE_LEVEL_MODERATE\\nplace_primary_type=bar\\nhas_delivery=False\\nis_reservable=True' metadata={'places_opening_hours': \"['Monday: Closed', 'Tuesday: Closed', 'Wednesday: 6:00\\\\u2009–\\\\u200911:00\\\\u202fPM', 'Thursday: 6:00\\\\u2009–\\\\u200911:00\\\\u202fPM', 'Friday: 6:00\\\\u2009–\\\\u200911:00\\\\u202fPM', 'Saturday: 6:00\\\\u2009–\\\\u200911:00\\\\u202fPM', 'Sunday: 6:00\\\\u2009–\\\\u200911:00\\\\u202fPM']\", 'place_website': nan, 'place_phone_number': '+39 393 082 6866', 'source': 'ChIJwzs5vKLbfkcRp43hqXskPKw'}\n",
            "\n",
            "page_content='place_name=Enoteca Barcollo\\nreview=The environment is very nice, suitable for all ages. Free parking on site.\\r\\nThe quantity of wine in the glasses seemed a little low to me, but at least they bring some accompanying tarallini.\\r\\nIn total for 5 glasses of white wine and a platter of cold cuts and cheeses we paid 41 euros.\\nplace_address=Via Alessandro Guidi, 23, 35142 Padova PD, Italy\\nplace_average_ratings=4.3\\nplace_price_level=PRICE_LEVEL_MODERATE\\nplace_primary_type=bar\\nhas_delivery=False\\nis_reservable=True' metadata={'places_opening_hours': \"['Monday: Closed', 'Tuesday: Closed', 'Wednesday: 6:00\\\\u2009–\\\\u200911:00\\\\u202fPM', 'Thursday: 6:00\\\\u2009–\\\\u200911:00\\\\u202fPM', 'Friday: 6:00\\\\u2009–\\\\u200911:00\\\\u202fPM', 'Saturday: 6:00\\\\u2009–\\\\u200911:00\\\\u202fPM', 'Sunday: 6:00\\\\u2009–\\\\u200911:00\\\\u202fPM']\", 'place_website': nan, 'place_phone_number': '+39 393 082 6866', 'source': 'ChIJwzs5vKLbfkcRp43hqXskPKw'}\n",
            "\n",
            "page_content='place_name=Enoteca Barcollo\\nreview=Super cicchetti, equally super cold cuts platter! Wide choice of wines. Very welcoming environment and super friendly staff. Both the boy and the girl made themselves available to serve us as best as possible and guarantee us an excellent aperitif! 💪✨💯💯💯💯\\nplace_address=Via Alessandro Guidi, 23, 35142 Padova PD, Italy\\nplace_average_ratings=4.3\\nplace_price_level=PRICE_LEVEL_MODERATE\\nplace_primary_type=bar\\nhas_delivery=False\\nis_reservable=True' metadata={'places_opening_hours': \"['Monday: Closed', 'Tuesday: Closed', 'Wednesday: 6:00\\\\u2009–\\\\u200911:00\\\\u202fPM', 'Thursday: 6:00\\\\u2009–\\\\u200911:00\\\\u202fPM', 'Friday: 6:00\\\\u2009–\\\\u200911:00\\\\u202fPM', 'Saturday: 6:00\\\\u2009–\\\\u200911:00\\\\u202fPM', 'Sunday: 6:00\\\\u2009–\\\\u200911:00\\\\u202fPM']\", 'place_website': nan, 'place_phone_number': '+39 393 082 6866', 'source': 'ChIJwzs5vKLbfkcRp43hqXskPKw'}\n",
            "\n"
          ]
        }
      ],
      "source": [
        "question = \"where is the Enoteca Barcollo located? and what is its phone number?\"\n",
        "\n",
        "docs = vector_db.similarity_search(question, k = 5)\n",
        "\n",
        "for i in range(5):\n",
        "  print(docs[i], end=\"\\n\\n\")"
      ]
    },
    {
      "cell_type": "markdown",
      "metadata": {},
      "source": [
        "## Load Vector Database"
      ]
    },
    {
      "cell_type": "code",
      "execution_count": 20,
      "metadata": {},
      "outputs": [],
      "source": [
        "from langchain_google_genai import GoogleGenerativeAIEmbeddings, ChatGoogleGenerativeAI\n",
        "from langchain_community.vectorstores import FAISS\n",
        "from langchain.storage import LocalFileStore\n",
        "from langchain.embeddings import CacheBackedEmbeddings\n",
        "from os import getenv\n",
        "import dotenv\n",
        "dotenv.load_dotenv()\n",
        "\n",
        "\n",
        "# Faiss\n",
        "FAISS_REVIEWS_PATH_EUCLIDEAN = \"faiss_index_euclidean\"\n",
        "FAISS_INDEX_NAME = \"index\"\n",
        "FAISS_DISTANCE_STRATEGY='EUCLIDEAN_DISTANCE'\n",
        "EMBEDDING_MODEL_NAME = \"models/text-embedding-004\"\n",
        "EMBEDDINGS_CACHE_STORE=\"./cache/\"\n",
        "\n",
        "GOOGLE_API_KEY = getenv('GOOGLE_API_KEY')\n",
        "\n",
        "embedding_model = GoogleGenerativeAIEmbeddings(model=EMBEDDING_MODEL_NAME)\n",
        "store = LocalFileStore(EMBEDDINGS_CACHE_STORE)\n",
        "embedding_model = CacheBackedEmbeddings.from_bytes_store(embedding_model, store)\n",
        "\n",
        "vector_db = FAISS.load_local(folder_path=FAISS_REVIEWS_PATH_EUCLIDEAN,\n",
        "                             embeddings=embedding_model,\n",
        "                             index_name=FAISS_INDEX_NAME,\n",
        "                             #allow_dangerous_deserialization=True\n",
        "                             )"
      ]
    },
    {
      "cell_type": "markdown",
      "metadata": {
        "id": "Rk1-sq8Voijw"
      },
      "source": [
        "## Load LLM"
      ]
    },
    {
      "cell_type": "code",
      "execution_count": 12,
      "metadata": {},
      "outputs": [],
      "source": [
        "llm = ChatGoogleGenerativeAI(model=LLM_MODEL_NAME)"
      ]
    },
    {
      "cell_type": "code",
      "execution_count": 27,
      "metadata": {},
      "outputs": [
        {
          "data": {
            "text/plain": [
              "AIMessage(content='Hi! How can I help you today? \\n', response_metadata={'prompt_feedback': {'block_reason': 0, 'safety_ratings': []}, 'finish_reason': 'STOP', 'safety_ratings': [{'category': 'HARM_CATEGORY_SEXUALLY_EXPLICIT', 'probability': 'NEGLIGIBLE', 'blocked': False}, {'category': 'HARM_CATEGORY_HATE_SPEECH', 'probability': 'NEGLIGIBLE', 'blocked': False}, {'category': 'HARM_CATEGORY_HARASSMENT', 'probability': 'NEGLIGIBLE', 'blocked': False}, {'category': 'HARM_CATEGORY_DANGEROUS_CONTENT', 'probability': 'NEGLIGIBLE', 'blocked': False}]}, id='run-dde23adf-e6d9-4920-8bec-de7d4da50483-0')"
            ]
          },
          "execution_count": 27,
          "metadata": {},
          "output_type": "execute_result"
        }
      ],
      "source": [
        "llm.invoke(\"Hi\")"
      ]
    },
    {
      "cell_type": "markdown",
      "metadata": {
        "id": "d4SU2uzJoijz"
      },
      "source": [
        "## Create LangChain pipeline"
      ]
    },
    {
      "cell_type": "code",
      "execution_count": 13,
      "metadata": {},
      "outputs": [],
      "source": [
        "from langchain.prompts import (\n",
        "    PromptTemplate,\n",
        "    SystemMessagePromptTemplate,\n",
        "    HumanMessagePromptTemplate,\n",
        "    ChatPromptTemplate,)\n",
        "from langchain_core.output_parsers import StrOutputParser\n",
        "from langchain_community.vectorstores import FAISS\n",
        "from langchain.schema.runnable import RunnablePassthrough"
      ]
    },
    {
      "cell_type": "code",
      "execution_count": 25,
      "metadata": {
        "id": "GNPL6u4EkAW3"
      },
      "outputs": [],
      "source": [
        "review_template_str = \"\"\"\n",
        "Your job is to use Google Map restaurants and bars reviews to help people find best places to go for a meal or a drink.\n",
        "Use the following information and reviews to answer the questions. if the context is not about restaurants,\n",
        "then kindly tell the user that you can only provide assistance and answer questions related to restaurants.\n",
        "If you don't know an answer based on the context, say you don't know. Answer context:\n",
        "{context}\n",
        "\"\"\"\n",
        "\n",
        "system_prompt = SystemMessagePromptTemplate(\n",
        "    prompt=PromptTemplate(\n",
        "        input_variables=[\"context\"], template=review_template_str\n",
        "    )\n",
        ")\n",
        "\n",
        "human_prompt = HumanMessagePromptTemplate(\n",
        "    prompt=PromptTemplate(input_variables=[\"question\"], template=\"{question}\")\n",
        ")\n",
        "messages = [system_prompt, human_prompt]\n",
        "\n",
        "review_prompt_template = ChatPromptTemplate(\n",
        "    input_variables=[\"context\", \"question\"], messages=messages\n",
        ")\n",
        "\n",
        "reviews_retriever = vector_db.as_retriever(search_kwargs={'k': 20,})\n",
        "\n",
        "review_chain = (\n",
        "    {\"context\": reviews_retriever, \"question\": RunnablePassthrough()}\n",
        "    | review_prompt_template\n",
        "    | llm\n",
        "    | StrOutputParser()\n",
        ")"
      ]
    },
    {
      "cell_type": "markdown",
      "metadata": {},
      "source": [
        "## Sample usage"
      ]
    },
    {
      "cell_type": "code",
      "execution_count": 26,
      "metadata": {},
      "outputs": [
        {
          "name": "stdout",
          "output_type": "stream",
          "text": [
            "Here are some highly-rated pizzerias based on Google Maps reviews:\n",
            "\n",
            "* **Officina Della Pizza:** This pizzeria is known for its delicious pizzas with high-quality ingredients and friendly service. They are located at Via Vittorio Bachelet, 35, 35010 Vigonza PD, Italy. \n",
            "* **Pizzeria Al Quadrifoglio:**  This pizzeria is known for its excellent pizza, quick service, and friendly staff. They are located at Via Dante Alighieri, 4/a, 35020 Ponte San Nicolò PD, Italy. \n",
            "* **da Pino Padova:** This pizza restaurant offers a delightful dining experience with high-quality pizzas and a warm atmosphere. They are located at Piazza Camillo Benso Conte di Cavour, 20, 35122 Padova PD, Italy.\n",
            "* **pizzeria la poesia:** This pizzeria is known for its incredibly delicious pizzas and friendly service, with the owner speaking English. They are located at Via Piovese, 13, 35127 Padova PD, Italy. \n",
            "* **Crazy Pizza:** This pizzeria has a wood-burning oven, uses fresh products, and offers various pizza types and doughs, including options for allergic customers. They are located at Via Jacopo Filiasi, 2F, 35128 Padova PD, Italy. \n",
            "* **Pizzalonga Away Ponte San Nicolò:** This pizzeria is known for its delicate and tasty pizzas with fresh ingredients and efficient service. They are located at Via G. Marconi, 149, 35020 Ponte San Nicolò PD, Italy. \n",
            "* **Pizzalonga Away Noventa Padovana:** This pizzeria is highly praised for its perfect pizza base, delicious toppings, and excellent service. They are located at Via Valmarana, 44, 35027 Noventa Padovana PD, Italy.\n",
            "* **Antica Pizza:** This pizzeria is known for its exceptional pizza quality, and highly recommended for residents of Montà or Sant'Ignazio. They are located at Via Montà, 263, 35136 Padova PD, Italy. \n",
            "* **Pizzeria Pin Up:**  This pizzeria offers tasty and light dough pizzas, high-quality food, and kind staff. They are located at Via Brentella, 22, 35030 Caselle PD, Italy. \n",
            "* **New Pizza:** This pizzeria is known for its delicious pizza with strong flavors and their punctual delivery service. They are located at Piazzetta Giovanelli, 56, 35027 Noventana PD, Italy.  However, some customers have mentioned that their delivery service can be delayed. \n",
            "* **Master Pizza:** This pizzeria is known for its kind staff and delicious pizzas with a favorite dough that is dry, tasty, and never hard. They are located at Via A. Diaz, 200, 35010 Vigonza PD, Italy. \n",
            "* **Pizzeria Antica Osteria Dazzo:** This restaurant offers amazing pizza with delicious ingredients, friendly and capable service, and a good selection of beers. They are located at Via Roma, 12, 35020 Saonara PD, Italy. \n",
            "\n",
            "I recommend checking out the reviews for each place to get a better idea of what they offer and what other customers have to say.\n",
            "\n"
          ]
        }
      ],
      "source": [
        "question = \"\"\"Where can I find delicious pizzas?\"\"\"\n",
        "print(review_chain.invoke(question))"
      ]
    },
    {
      "cell_type": "code",
      "execution_count": 31,
      "metadata": {
        "colab": {
          "base_uri": "https://localhost:8080/"
        },
        "id": "32GruWzvuWnM",
        "outputId": "b53bc31b-0755-4fe6-99ce-5539fccb8b05"
      },
      "outputs": [
        {
          "name": "stdout",
          "output_type": "stream",
          "text": [
            "Here are some highly-rated pizzerias according to Google Maps reviews:\n",
            "\n",
            "* **Officina Della Pizza:**  Reviewers rave about the quality ingredients and the friendly service. It's located at Via Vittorio Bachelet, 35, 35010 Vigonza PD, Italy.\n",
            "* **da Pino Padova:** This pizzeria is known for its perfectly cooked crust, flavorful sauce, and fresh toppings. It's located at Piazza Camillo Benso Conte di Cavour, 20, 35122 Padova PD, Italy.\n",
            "* **Pizzeria Al Quadrifoglio:** This pizzeria has excellent pizza, quick service, and very friendly staff. It's located at Via Dante Alighieri, 4/a, 35020 Ponte San Nicolò PD, Italy.\n",
            "* **Crazy Pizza:** This pizzeria offers a wood-burning oven, fresh products, and a wide variety of pizzas. They also cater to customers with allergies. It's located at Via Jacopo Filiasi, 2F, 35128 Padova PD, Italy.\n",
            "* **pizzeria la poesia:** Reviewers say the pizza here is \"the most delicious\" they've ever had. The owner is known for his humor and English speaking skills. It's located at Via Piovese, 13, 35127 Padova PD, Italy. \n",
            "* **Pizzeria Pin Up:**  Customers praise the tasty and light dough, quality food, and very kind staff. It's located at Via Brentella, 22, 35030 Caselle PD, Italy.\n",
            "* **Pizzalonga Away Noventa Padovana:** This pizzeria is praised for its perfect base, delicious toppings, and exceptional service. It's located at Via Valmarana, 44, 35027 Noventa Padovana PD, Italy.\n",
            "* **Antica Pizza:**  Reviewers describe the pizza here as \"truly exceptional\" and \"ultra superior\". It's located at Via Montà, 263, 35136 Padova PD, Italy. \n",
            "\n",
            "I hope this helps you find the perfect pizza! 🍕\n",
            "\n"
          ]
        }
      ],
      "source": [
        "question = \"\"\"Where can I find delicious pizzas?\"\"\"\n",
        "print(review_chain.invoke(question))"
      ]
    },
    {
      "cell_type": "code",
      "execution_count": 32,
      "metadata": {
        "colab": {
          "base_uri": "https://localhost:8080/"
        },
        "id": "LzzRDTT6tTrt",
        "outputId": "2ea12f61-646e-45fb-839c-595749536e43"
      },
      "outputs": [
        {
          "name": "stdout",
          "output_type": "stream",
          "text": [
            "Here are some pros and cons of Ristorante Napoli Centrale based on the reviews:\n",
            "\n",
            "**Pros:**\n",
            "\n",
            "* **Delicious food:**  Reviewers consistently praise the pizza, with mentions of tasty dishes like grilled branzino, seafood pasta, and desserts. \n",
            "* **Excellent service:**  The staff is described as friendly, attentive, and unobtrusive.\n",
            "* **Good value for money:** The price level is moderate, making it a good option for a satisfying meal without breaking the bank.\n",
            "\n",
            "**Cons:**\n",
            "\n",
            "* **No cocktail menu:** While they offer Aperol and Campari Spritz, there's no dedicated cocktail list.\n",
            "* **Pizza fritti can be too much food:**  One reviewer found the pizza fritti to be a bit overwhelming in size, although delicious.\n",
            "\n",
            "Overall, Ristorante Napoli Centrale seems like a good choice for a pleasant dining experience with delicious food and great service. \n",
            "\n"
          ]
        }
      ],
      "source": [
        "question = \"\"\"What are the pros and cons of Napoli Centrale?\"\"\"\n",
        "print(review_chain.invoke(question))"
      ]
    },
    {
      "cell_type": "code",
      "execution_count": 16,
      "metadata": {},
      "outputs": [
        {
          "name": "stdout",
          "output_type": "stream",
          "text": [
            "Here are some good steak houses in Padova that would be great for a romantic dinner:\n",
            "\n",
            "* **Ristorante Vecchio Falconiere:**  Via Umberto I, 31, 35122 Padova PD, Italy. Phone: +39 049 656544.  Reviewers rave about the passion for food, the friendly owner, and the table-side steak cooking. They have a large selection of steaks and wines.\n",
            "* **Osteria BocaBona:** Str. Pelosa, 4, 35136 Padova PD, Italy. Phone: +39 049 871 3898.  This place is known for its welcoming atmosphere and excellent selection of well-matured and cooked meats. The beef steak is a standout.\n",
            "* **La Fiorentina:** Via G. Marconi, 123, 35020 Ponte San Nicolò PD, Italy. Phone: +39 049 816 4672.  Reviewers praise the quality of the meat, the friendly owners, and the cozy ambiance. The steak is cooked to perfection and very tender. \n",
            "* **Osteria Nonna Pina:** Via Roma, 65, 35027 Noventa Padovana PD, Italy. Phone: +39 049 830 6301.  This restaurant has a stylish interior, outdoor grill, and serves some of the most delicious meat in the area. \n",
            "\n",
            "Let me know if you'd like more details about any of these places. \n",
            "\n"
          ]
        }
      ],
      "source": [
        "question = \"\"\"Give the name, address and phone number of some good steak houses for a romantic dinner.\"\"\"\n",
        "print(review_chain.invoke(question))"
      ]
    },
    {
      "cell_type": "code",
      "execution_count": 67,
      "metadata": {},
      "outputs": [
        {
          "name": "stdout",
          "output_type": "stream",
          "text": [
            "Based on the reviews provided, the best steak house option with a 50 euro budget seems to be Ristorante Vecchio Falconiere. Here are the details:\n",
            "\n",
            "Ristorante Vecchio Falconiere\n",
            "Address: Via Umberto I, 31, 35122 Padova PD, Italy \n",
            "Phone: +39 049 656544\n",
            "\n",
            "The review mentions they have a large variety of steaks in different sizes, from local to Wagyu beef. It's described as a \"gem for meat and wine lovers\". However, the review doesn't specify prices, so I can't say for certain if it would fit a 50 euro per person budget. The other restaurants reviewed don't appear to specialize in steak.\n"
          ]
        }
      ],
      "source": [
        "question = \"\"\"Give the name, address and phone number of the best steak houses with a 50 euro budget?\"\"\"\n",
        "\n",
        "print(review_chain.invoke(question))"
      ]
    },
    {
      "cell_type": "code",
      "execution_count": 26,
      "metadata": {},
      "outputs": [
        {
          "name": "stdout",
          "output_type": "stream",
          "text": [
            "Based on the reviews, a couple good sandwich places are:\n",
            "\n",
            "Soul Kitchen\n",
            "Via del Santo, 23, 35123 Padova PD, Italy\n",
            "+39 049 664818\n",
            "\n",
            "The reviews mention they have great burgers, including an Angus beef burger with excellent onion rings. One review wasn't as impressed with their carbonara burger though.\n",
            "\n",
            "Spiller | Padova \n",
            "Via Fornace Morandi, 24/B, 35133 Padova PD, Italy\n",
            "+39 049 864 4822\n",
            "\n",
            "A review recommends their club sandwich and says the location is nice with outdoor seating available. They suggest booking in advance as it can get busy.\n",
            "\n",
            "The other places focus more on burgers rather than a variety of sandwiches. I don't have enough information to confidently recommend additional sandwich spots beyond those two based on the reviews provided.\n"
          ]
        }
      ],
      "source": [
        "question = \"\"\"Give the name, address and phone number of the some good sandwich places?\"\"\"\n",
        "print(review_chain.invoke(question))"
      ]
    },
    {
      "cell_type": "code",
      "execution_count": 37,
      "metadata": {},
      "outputs": [
        {
          "name": "stdout",
          "output_type": "stream",
          "text": [
            "Based on the reviews provided, the most affordable yet high-quality restaurant in Padova seems to be Peace 'n' Spice. A few key points from the reviews:\n",
            "\n",
            "- It offers a variety of delicious Middle Eastern dishes at an inexpensive price level. One reviewer said \"Food was amazing. Very delicious, every dish we took was very tasty.\"\n",
            "\n",
            "- The ambiance and decor are described as fantastic. One review mentioned \"The ambiance is fantastic and even music in background brings nostalgia.\"\n",
            "\n",
            "- Service is friendly and accommodating. A reviewer said \"Staffs are very friendly and polite.\"\n",
            "\n",
            "- It has an average rating of 4.5 stars, higher than the McDonald's and KFC locations mentioned which are in the 3-4 star range.\n",
            "\n",
            "The McDonald's and KFC have mixed reviews, with some praising the taste/quality but others feeling it has declined. They are also inexpensive options.\n",
            "\n",
            "So in summary, for an affordable restaurant in Padova with high quality food, friendly service and nice atmosphere, Peace 'n' Spice stands out based on these reviews as the best option provided. The fast food chains are even cheaper but the quality seems more variable.\n"
          ]
        }
      ],
      "source": [
        "question = \"\"\"What are the most affordable but high-quality restaurants in City?\"\"\"\n",
        "result = review_chain.invoke(question)\n",
        "print(result)"
      ]
    },
    {
      "cell_type": "code",
      "execution_count": 72,
      "metadata": {},
      "outputs": [
        {
          "name": "stdout",
          "output_type": "stream",
          "text": [
            "I apologize, but I did not find information about how to make a roast beef sandwich at home in the provided reviews. The reviews are about various restaurants in Padova, Italy, including Hamerica's, Autogrill Limenella, Old England Pub, Ristorante Vecchio Falconiere, Brunch Republic Padova, Bar Nazionale, and McDonald's Padova Ovest. They mention dishes like burgers, chicken burrito, vegan pulled pork sandwich, steak, and tramezzino sandwiches, but do not provide instructions for making a roast beef sandwich at home.\n"
          ]
        }
      ],
      "source": [
        "question = \"\"\"How can I make a roast beef sandwich at home?\"\"\"\n",
        "print(review_chain.invoke(question))"
      ]
    },
    {
      "cell_type": "code",
      "execution_count": null,
      "metadata": {},
      "outputs": [
        {
          "name": "stdout",
          "output_type": "stream",
          "text": [
            "I'm sorry, I can only answer questions related to restaurants and bars based on the provided reviews. The context doesn't contain information about RAG. \n",
            "\n"
          ]
        }
      ],
      "source": [
        "question = \"\"\"What is RAG?\"\"\"\n",
        "print(review_chain.invoke(question))"
      ]
    },
    {
      "cell_type": "code",
      "execution_count": null,
      "metadata": {},
      "outputs": [
        {
          "name": "stdout",
          "output_type": "stream",
          "text": [
            "I can only provide assistance and answer questions related to restaurants. \n",
            "\n"
          ]
        }
      ],
      "source": [
        "question = \"\"\"What is Natural Language Processing?\"\"\"\n",
        "print(review_chain.invoke(question))"
      ]
    },
    {
      "cell_type": "code",
      "execution_count": null,
      "metadata": {},
      "outputs": [
        {
          "name": "stdout",
          "output_type": "stream",
          "text": [
            "I can only provide assistance and answer questions related to restaurants. I don't know anything about Natural Language Processing. \n",
            "\n"
          ]
        }
      ],
      "source": [
        "question = \"\"\"Explain Natural Language Processing.\"\"\"\n",
        "print(review_chain.invoke(question))"
      ]
    },
    {
      "cell_type": "markdown",
      "metadata": {},
      "source": [
        "## Evaluation on Synthetic Questions"
      ]
    },
    {
      "cell_type": "code",
      "execution_count": 34,
      "metadata": {},
      "outputs": [],
      "source": [
        "from pprint import pprint\n",
        "import random"
      ]
    },
    {
      "cell_type": "code",
      "execution_count": 76,
      "metadata": {},
      "outputs": [],
      "source": [
        "def get_question_answer_pairs(documents, generator_llm, num_pairs=30):\n",
        "  question_answer_pairs = []\n",
        "  for _ in range(num_pairs):\n",
        "    document = random.choice(documents)\n",
        "    page_content = document.page_content\n",
        "    prompt = f\"This is a factual text passage: {page_content}. Write only one question about the restaurant based on the provided text passage. only write the quesion and noting else.\"\n",
        "\n",
        "    question = generator_llm.invoke(prompt).content\n",
        "    answer = generator_llm.invoke(f\"From the following passage, answer the question: {question}\\n{page_content}\").content\n",
        "    question_answer_pairs.append({\"question\": question, \"answer\": answer, \"document\": document})\n",
        "\n",
        "  return question_answer_pairs"
      ]
    },
    {
      "cell_type": "code",
      "execution_count": 77,
      "metadata": {},
      "outputs": [],
      "source": [
        "generator_llm = ChatGoogleGenerativeAI(model=LLM_MODEL_NAME)\n",
        "question_answer_pairs = get_question_answer_pairs(documents, generator_llm, num_pairs=30)\n",
        "df = pd.DataFrame(question_answer_pairs)"
      ]
    },
    {
      "cell_type": "code",
      "execution_count": 16,
      "metadata": {},
      "outputs": [],
      "source": [
        "rag_answers = []\n",
        "for question in df[\"question\"]:\n",
        "    question = question.split(\"\\n\")[0]\n",
        "    answer = review_chain.invoke(question)\n",
        "    rag_answers.append(answer)\n",
        "\n",
        "df[\"rag_answer\"] = rag_answers\n",
        "df.to_csv('question_answer_pairs.csv', index=False)"
      ]
    },
    {
      "cell_type": "code",
      "execution_count": 21,
      "metadata": {},
      "outputs": [
        {
          "data": {
            "text/html": [
              "<div>\n",
              "<style scoped>\n",
              "    .dataframe tbody tr th:only-of-type {\n",
              "        vertical-align: middle;\n",
              "    }\n",
              "\n",
              "    .dataframe tbody tr th {\n",
              "        vertical-align: top;\n",
              "    }\n",
              "\n",
              "    .dataframe thead th {\n",
              "        text-align: right;\n",
              "    }\n",
              "</style>\n",
              "<table border=\"1\" class=\"dataframe\">\n",
              "  <thead>\n",
              "    <tr style=\"text-align: right;\">\n",
              "      <th></th>\n",
              "      <th>question</th>\n",
              "      <th>answer</th>\n",
              "      <th>document</th>\n",
              "      <th>rag_answer</th>\n",
              "    </tr>\n",
              "  </thead>\n",
              "  <tbody>\n",
              "    <tr>\n",
              "      <th>0</th>\n",
              "      <td>Does Bar Fortuna Sas offer delivery services? \\n</td>\n",
              "      <td>The passage states that `has_delivery=False`. ...</td>\n",
              "      <td>page_content='place_name=Bar Fortuna Sas\\nrevi...</td>\n",
              "      <td>No, Bar Fortuna Sas does not offer delivery se...</td>\n",
              "    </tr>\n",
              "    <tr>\n",
              "      <th>1</th>\n",
              "      <td>Is Crazy Pizza a good option for a budget-frie...</td>\n",
              "      <td>Yes, based on the information provided, Crazy ...</td>\n",
              "      <td>page_content='place_name=Crazy Pizza\\nreview=B...</td>\n",
              "      <td>Yes, Crazy Pizza is a good option for a budget...</td>\n",
              "    </tr>\n",
              "    <tr>\n",
              "      <th>2</th>\n",
              "      <td>What are the standout dishes at Ristorante da ...</td>\n",
              "      <td>The standout dishes at Ristorante da Giovanni ...</td>\n",
              "      <td>page_content=\"place_name=Ristorante da Giovann...</td>\n",
              "      <td>Ristorante da Giovanni is known for its authen...</td>\n",
              "    </tr>\n",
              "    <tr>\n",
              "      <th>3</th>\n",
              "      <td>Is Anima Underground a good place to find drag...</td>\n",
              "      <td>Based on the provided information, **yes**, An...</td>\n",
              "      <td>page_content='place_name=Anima Underground\\nre...</td>\n",
              "      <td>Yes, Anima Underground is a good place to find...</td>\n",
              "    </tr>\n",
              "    <tr>\n",
              "      <th>4</th>\n",
              "      <td>What kind of food is served at Veni Vidi Vino ...</td>\n",
              "      <td>The passage mentions \"substantial and spectacu...</td>\n",
              "      <td>page_content=\"place_name=Veni Vidi Vino Enotec...</td>\n",
              "      <td>Veni Vidi Vino Enoteca serves tasty food, incl...</td>\n",
              "    </tr>\n",
              "  </tbody>\n",
              "</table>\n",
              "</div>"
            ],
            "text/plain": [
              "                                            question  \\\n",
              "0   Does Bar Fortuna Sas offer delivery services? \\n   \n",
              "1  Is Crazy Pizza a good option for a budget-frie...   \n",
              "2  What are the standout dishes at Ristorante da ...   \n",
              "3  Is Anima Underground a good place to find drag...   \n",
              "4  What kind of food is served at Veni Vidi Vino ...   \n",
              "\n",
              "                                              answer  \\\n",
              "0  The passage states that `has_delivery=False`. ...   \n",
              "1  Yes, based on the information provided, Crazy ...   \n",
              "2  The standout dishes at Ristorante da Giovanni ...   \n",
              "3  Based on the provided information, **yes**, An...   \n",
              "4  The passage mentions \"substantial and spectacu...   \n",
              "\n",
              "                                            document  \\\n",
              "0  page_content='place_name=Bar Fortuna Sas\\nrevi...   \n",
              "1  page_content='place_name=Crazy Pizza\\nreview=B...   \n",
              "2  page_content=\"place_name=Ristorante da Giovann...   \n",
              "3  page_content='place_name=Anima Underground\\nre...   \n",
              "4  page_content=\"place_name=Veni Vidi Vino Enotec...   \n",
              "\n",
              "                                          rag_answer  \n",
              "0  No, Bar Fortuna Sas does not offer delivery se...  \n",
              "1  Yes, Crazy Pizza is a good option for a budget...  \n",
              "2  Ristorante da Giovanni is known for its authen...  \n",
              "3  Yes, Anima Underground is a good place to find...  \n",
              "4  Veni Vidi Vino Enoteca serves tasty food, incl...  "
            ]
          },
          "execution_count": 21,
          "metadata": {},
          "output_type": "execute_result"
        }
      ],
      "source": [
        "df.to_csv('question_answer_pairs.csv', index=False)\n",
        "df.head()"
      ]
    },
    {
      "cell_type": "code",
      "execution_count": 20,
      "metadata": {},
      "outputs": [
        {
          "data": {
            "text/html": [
              "<div>\n",
              "<style scoped>\n",
              "    .dataframe tbody tr th:only-of-type {\n",
              "        vertical-align: middle;\n",
              "    }\n",
              "\n",
              "    .dataframe tbody tr th {\n",
              "        vertical-align: top;\n",
              "    }\n",
              "\n",
              "    .dataframe thead th {\n",
              "        text-align: right;\n",
              "    }\n",
              "</style>\n",
              "<table border=\"1\" class=\"dataframe\">\n",
              "  <thead>\n",
              "    <tr style=\"text-align: right;\">\n",
              "      <th></th>\n",
              "      <th>question</th>\n",
              "      <th>answer</th>\n",
              "      <th>document</th>\n",
              "      <th>rag_answer</th>\n",
              "    </tr>\n",
              "  </thead>\n",
              "  <tbody>\n",
              "    <tr>\n",
              "      <th>0</th>\n",
              "      <td>Does Bar Fortuna Sas offer delivery services? \\n</td>\n",
              "      <td>The passage states that `has_delivery=False`. ...</td>\n",
              "      <td>page_content='place_name=Bar Fortuna Sas\\nrevi...</td>\n",
              "      <td>No, Bar Fortuna Sas does not offer delivery se...</td>\n",
              "    </tr>\n",
              "    <tr>\n",
              "      <th>1</th>\n",
              "      <td>Is Crazy Pizza a good option for a budget-frie...</td>\n",
              "      <td>Yes, based on the information provided, Crazy ...</td>\n",
              "      <td>page_content='place_name=Crazy Pizza\\nreview=B...</td>\n",
              "      <td>Yes, Crazy Pizza is a good option for a budget...</td>\n",
              "    </tr>\n",
              "    <tr>\n",
              "      <th>2</th>\n",
              "      <td>What are the standout dishes at Ristorante da ...</td>\n",
              "      <td>The standout dishes at Ristorante da Giovanni ...</td>\n",
              "      <td>page_content=\"place_name=Ristorante da Giovann...</td>\n",
              "      <td>Ristorante da Giovanni is known for its authen...</td>\n",
              "    </tr>\n",
              "    <tr>\n",
              "      <th>3</th>\n",
              "      <td>Is Anima Underground a good place to find drag...</td>\n",
              "      <td>Based on the provided information, **yes**, An...</td>\n",
              "      <td>page_content='place_name=Anima Underground\\nre...</td>\n",
              "      <td>Yes, Anima Underground is a good place to find...</td>\n",
              "    </tr>\n",
              "    <tr>\n",
              "      <th>4</th>\n",
              "      <td>What kind of food is served at Veni Vidi Vino ...</td>\n",
              "      <td>The passage mentions \"substantial and spectacu...</td>\n",
              "      <td>page_content=\"place_name=Veni Vidi Vino Enotec...</td>\n",
              "      <td>Veni Vidi Vino Enoteca serves tasty food, incl...</td>\n",
              "    </tr>\n",
              "  </tbody>\n",
              "</table>\n",
              "</div>"
            ],
            "text/plain": [
              "                                            question  \\\n",
              "0   Does Bar Fortuna Sas offer delivery services? \\n   \n",
              "1  Is Crazy Pizza a good option for a budget-frie...   \n",
              "2  What are the standout dishes at Ristorante da ...   \n",
              "3  Is Anima Underground a good place to find drag...   \n",
              "4  What kind of food is served at Veni Vidi Vino ...   \n",
              "\n",
              "                                              answer  \\\n",
              "0  The passage states that `has_delivery=False`. ...   \n",
              "1  Yes, based on the information provided, Crazy ...   \n",
              "2  The standout dishes at Ristorante da Giovanni ...   \n",
              "3  Based on the provided information, **yes**, An...   \n",
              "4  The passage mentions \"substantial and spectacu...   \n",
              "\n",
              "                                            document  \\\n",
              "0  page_content='place_name=Bar Fortuna Sas\\nrevi...   \n",
              "1  page_content='place_name=Crazy Pizza\\nreview=B...   \n",
              "2  page_content=\"place_name=Ristorante da Giovann...   \n",
              "3  page_content='place_name=Anima Underground\\nre...   \n",
              "4  page_content=\"place_name=Veni Vidi Vino Enotec...   \n",
              "\n",
              "                                          rag_answer  \n",
              "0  No, Bar Fortuna Sas does not offer delivery se...  \n",
              "1  Yes, Crazy Pizza is a good option for a budget...  \n",
              "2  Ristorante da Giovanni is known for its authen...  \n",
              "3  Yes, Anima Underground is a good place to find...  \n",
              "4  Veni Vidi Vino Enoteca serves tasty food, incl...  "
            ]
          },
          "execution_count": 20,
          "metadata": {},
          "output_type": "execute_result"
        }
      ],
      "source": [
        "df = pd.read_csv('question_answer_pairs.csv')\n",
        "df.head()"
      ]
    },
    {
      "cell_type": "code",
      "execution_count": 40,
      "metadata": {},
      "outputs": [
        {
          "name": "stdout",
          "output_type": "stream",
          "text": [
            "Does Bar Fortuna Sas offer delivery services? \n",
            "\n",
            "Is Crazy Pizza a good option for a budget-friendly meal? \n",
            "\n",
            "What are the standout dishes at Ristorante da Giovanni? \n",
            "\n",
            "Is Anima Underground a good place to find drag performances? \n",
            "\n",
            "What kind of food is served at Veni Vidi Vino Enoteca? \n",
            "\n",
            "Does Crazy Pizza offer dine-in options? \n",
            "\n",
            "Does Osteria Di Fuori Porta offer delivery? \n",
            "\n",
            "Is Bar La Mandria in Padova, Italy, reservable? \n",
            "\n",
            "Is Osteria Enoteca L'Indeciso a moderately priced restaurant in Padua, Italy? \n",
            "\n",
            "Is San Sushi a popular choice for sushi in Padova? \n",
            "\n"
          ]
        }
      ],
      "source": [
        "for i in range(10): \n",
        "    print(df[\"question\"].loc[i])"
      ]
    },
    {
      "cell_type": "markdown",
      "metadata": {},
      "source": [
        "## Limitatoins of classic LLMs"
      ]
    },
    {
      "cell_type": "code",
      "execution_count": null,
      "metadata": {},
      "outputs": [
        {
          "name": "stdout",
          "output_type": "stream",
          "text": [
            "'Does Bar Fortuna Sas in Padova city offer delivery services?'\n",
            "('I do not have access to real-time information, including business details '\n",
            " 'like delivery services. To find out if Bar Fortuna Sas in Padova city offers '\n",
            " 'delivery, I recommend checking their:\\n'\n",
            " '\\n'\n",
            " '* **Website:** Many businesses have websites that list their services.\\n'\n",
            " '* **Social Media:** Look for their Facebook or Instagram page, as they may '\n",
            " 'advertise delivery options there.\\n'\n",
            " '* **Online Food Delivery Apps:** Check apps like Deliveroo, Uber Eats, or '\n",
            " 'Glovo to see if Bar Fortuna Sas is listed.\\n'\n",
            " '* **Phone Call:** Call the restaurant directly to inquire about their '\n",
            " 'delivery options. \\n'\n",
            " '\\n'\n",
            " 'I hope this helps! \\n')\n"
          ]
        }
      ],
      "source": [
        "question = \"Does Bar Fortuna Sas in Padova city offer delivery services?\"\n",
        "answer = llm.invoke(question).content\n",
        "pprint(question)\n",
        "pprint(answer)"
      ]
    },
    {
      "cell_type": "code",
      "execution_count": 24,
      "metadata": {},
      "outputs": [
        {
          "name": "stdout",
          "output_type": "stream",
          "text": [
            "Does Bar Fortuna Sas offer delivery services? \n",
            "\n",
            "The passage states that `has_delivery=False`. Therefore, Bar Fortuna Sas **does not** offer delivery services. \n",
            "\n",
            "page_content='place_name=Bar Fortuna Sas\\nreview=Excellent breakfast.....\\nplace_address=Via Adriatica, 21, 35125 Padova PD, Italy\\nplace_average_ratings=3.9\\nplace_price_level=PRICE_LEVEL_INEXPENSIVE\\nplace_primary_type=bar\\nhas_delivery=False\\nis_reservable=False' metadata={'place_phone_number': '+39 049 673 2077', 'place_website': nan, 'source': 'ChIJscwimbzbfkcRAcJSXrAFVns', 'places_opening_hours': \"['Monday: 6:30\\\\u202fAM\\\\u2009–\\\\u20092:00\\\\u202fAM', 'Tuesday: 3:00\\\\u202fPM\\\\u2009–\\\\u20092:00\\\\u202fAM', 'Wednesday: 6:30\\\\u202fAM\\\\u2009–\\\\u20092:00\\\\u202fAM', 'Thursday: 6:30\\\\u202fAM\\\\u2009–\\\\u20092:00\\\\u202fAM', 'Friday: 6:30\\\\u202fAM\\\\u2009–\\\\u20092:00\\\\u202fAM', 'Saturday: 6:30\\\\u202fAM\\\\u2009–\\\\u20092:00\\\\u202fAM', 'Sunday: 6:30\\\\u202fAM\\\\u2009–\\\\u20092:00\\\\u202fAM']\", 'filename': 'ChIJscwimbzbfkcRAcJSXrAFVns'}\n",
            "No, Bar Fortuna Sas does not offer delivery services. \n",
            "\n"
          ]
        }
      ],
      "source": [
        "question = \"Does Bar Fortuna Sas in Padova city offer delivery services?\"\n",
        "answer = review_chain.invoke(question)\n",
        "print(question)\n",
        "print(answer)"
      ]
    },
    {
      "cell_type": "code",
      "execution_count": 41,
      "metadata": {},
      "outputs": [
        {
          "name": "stdout",
          "output_type": "stream",
          "text": [
            "'What kind of food is served at Veni Vidi Vino Enoteca?'\n",
            "('I do not have access to real-time information, including menus for '\n",
            " 'restaurants. To find out what kind of food is served at Veni Vidi Vino '\n",
            " 'Enoteca, I recommend checking their website or calling the restaurant '\n",
            " 'directly. \\n')\n"
          ]
        }
      ],
      "source": [
        "question = \"What kind of food is served at Veni Vidi Vino Enoteca?\"\n",
        "answer = llm.invoke(question).content\n",
        "pprint(question)\n",
        "pprint(answer)"
      ]
    },
    {
      "cell_type": "code",
      "execution_count": 43,
      "metadata": {},
      "outputs": [
        {
          "name": "stdout",
          "output_type": "stream",
          "text": [
            "'What kind of food is served at Veni Vidi Vino Enoteca?'\n",
            "('Veni Vidi Vino Enoteca serves very tasty food, according to one review.  '\n",
            " 'It\\'s described as \"too much for us to eat.\"  The review also mentions \"top '\n",
            " 'level wine\" and describes the owner as a \"very polite person.\" \\n')\n"
          ]
        }
      ],
      "source": [
        "question = \"What kind of food is served at Veni Vidi Vino Enoteca?\"\n",
        "answer = review_chain.invoke(question)\n",
        "pprint(question)\n",
        "pprint(answer)"
      ]
    }
  ],
  "metadata": {
    "accelerator": "GPU",
    "colab": {
      "gpuType": "T4",
      "provenance": []
    },
    "kernelspec": {
      "display_name": "Python 3 (ipykernel)",
      "language": "python",
      "name": "python3"
    },
    "language_info": {
      "codemirror_mode": {
        "name": "ipython",
        "version": 3
      },
      "file_extension": ".py",
      "mimetype": "text/x-python",
      "name": "python",
      "nbconvert_exporter": "python",
      "pygments_lexer": "ipython3",
      "version": "3.12.0"
    }
  },
  "nbformat": 4,
  "nbformat_minor": 0
}
