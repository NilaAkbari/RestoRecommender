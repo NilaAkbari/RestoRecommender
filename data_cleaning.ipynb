{
 "cells": [
  {
   "cell_type": "code",
   "execution_count": 1,
   "metadata": {},
   "outputs": [],
   "source": [
    "import pandas as pd"
   ]
  },
  {
   "cell_type": "code",
   "execution_count": 3,
   "metadata": {},
   "outputs": [],
   "source": [
    "# Dataset files\n",
    "PLACES_PATH = \"data_v2/data_v2/places.csv\"\n",
    "REVIEWS_PATH = \"data_v2/data_v2/reviews.csv\"\n",
    "\n",
    "places_df = pd.read_csv(PLACES_PATH)\n",
    "reviews_df = pd.read_csv(REVIEWS_PATH)"
   ]
  },
  {
   "cell_type": "code",
   "execution_count": 4,
   "metadata": {},
   "outputs": [
    {
     "data": {
      "text/plain": [
       "((513, 21), (2565, 5))"
      ]
     },
     "execution_count": 4,
     "metadata": {},
     "output_type": "execute_result"
    }
   ],
   "source": [
    "places_df.shape, reviews_df.shape"
   ]
  },
  {
   "cell_type": "code",
   "execution_count": 5,
   "metadata": {},
   "outputs": [],
   "source": [
    "reviews_df.drop_duplicates(inplace=True)\n",
    "places_df.drop_duplicates(inplace=True)"
   ]
  },
  {
   "cell_type": "code",
   "execution_count": 6,
   "metadata": {},
   "outputs": [
    {
     "data": {
      "text/plain": [
       "((513, 21), (2565, 5))"
      ]
     },
     "execution_count": 6,
     "metadata": {},
     "output_type": "execute_result"
    }
   ],
   "source": [
    "places_df.shape, reviews_df.shape"
   ]
  },
  {
   "cell_type": "code",
   "execution_count": 8,
   "metadata": {},
   "outputs": [
    {
     "data": {
      "text/plain": [
       "['indian_restaurant',\n",
       " 'bar',\n",
       " 'restaurant',\n",
       " 'pizza_restaurant',\n",
       " 'italian_restaurant',\n",
       " 'mexican_restaurant',\n",
       " 'japanese_restaurant',\n",
       " 'cafe',\n",
       " 'hamburger_restaurant',\n",
       " 'meal_takeaway',\n",
       " 'coffee_shop',\n",
       " 'fast_food_restaurant',\n",
       " 'meal_delivery',\n",
       " 'seafood_restaurant',\n",
       " 'chinese_restaurant',\n",
       " 'greek_restaurant',\n",
       " 'ramen_restaurant',\n",
       " 'sushi_restaurant',\n",
       " 'spanish_restaurant',\n",
       " 'vegetarian_restaurant',\n",
       " 'lebanese_restaurant',\n",
       " 'sandwich_shop',\n",
       " 'brunch_restaurant',\n",
       " 'american_restaurant',\n",
       " 'steak_house',\n",
       " 'vegan_restaurant']"
      ]
     },
     "execution_count": 8,
     "metadata": {},
     "output_type": "execute_result"
    }
   ],
   "source": [
    "types = []\n",
    "\n",
    "for x in places_df.index:\n",
    "    t = places_df.loc[x, \"place_primary_type\"]\n",
    "    if t not in types:\n",
    "        types.append(t)\n",
    "\n",
    "types"
   ]
  },
  {
   "cell_type": "code",
   "execution_count": 10,
   "metadata": {},
   "outputs": [],
   "source": [
    "deleted_types = ['hotel','swimming_pool','sports_complex','park','bowling_alley','night_club']"
   ]
  },
  {
   "cell_type": "code",
   "execution_count": 11,
   "metadata": {},
   "outputs": [],
   "source": [
    "for i in deleted_types:\n",
    "   place_id =  places_df[places_df['place_primary_type'] == i]['place_id']\n",
    "   places_df = places_df[places_df.place_primary_type != i]\n",
    "   for id in place_id:\n",
    "      reviews_df = reviews_df[reviews_df.place_id != id]"
   ]
  },
  {
   "cell_type": "code",
   "execution_count": 12,
   "metadata": {},
   "outputs": [
    {
     "data": {
      "text/plain": [
       "((513, 21), (2565, 5))"
      ]
     },
     "execution_count": 12,
     "metadata": {},
     "output_type": "execute_result"
    }
   ],
   "source": [
    "places_df.shape, reviews_df.shape"
   ]
  },
  {
   "cell_type": "code",
   "execution_count": 13,
   "metadata": {},
   "outputs": [],
   "source": [
    "nan = type(places_df.loc[124].place_location)"
   ]
  },
  {
   "cell_type": "code",
   "execution_count": 14,
   "metadata": {},
   "outputs": [
    {
     "data": {
      "text/html": [
       "<div>\n",
       "<style scoped>\n",
       "    .dataframe tbody tr th:only-of-type {\n",
       "        vertical-align: middle;\n",
       "    }\n",
       "\n",
       "    .dataframe tbody tr th {\n",
       "        vertical-align: top;\n",
       "    }\n",
       "\n",
       "    .dataframe thead th {\n",
       "        text-align: right;\n",
       "    }\n",
       "</style>\n",
       "<table border=\"1\" class=\"dataframe\">\n",
       "  <thead>\n",
       "    <tr style=\"text-align: right;\">\n",
       "      <th></th>\n",
       "      <th>place_id</th>\n",
       "      <th>place_name</th>\n",
       "      <th>place_types</th>\n",
       "      <th>place_address</th>\n",
       "      <th>place_average_ratings</th>\n",
       "      <th>place_ratings_count</th>\n",
       "      <th>place_reviews_count</th>\n",
       "      <th>place_location</th>\n",
       "      <th>place_website</th>\n",
       "      <th>place_phone_number</th>\n",
       "      <th>...</th>\n",
       "      <th>place_primary_type</th>\n",
       "      <th>has_delivery</th>\n",
       "      <th>has_dine_in</th>\n",
       "      <th>is_reservable</th>\n",
       "      <th>serves_breakfast</th>\n",
       "      <th>serves_lunch</th>\n",
       "      <th>serves_dinner</th>\n",
       "      <th>serves_beer</th>\n",
       "      <th>serves_wine</th>\n",
       "      <th>places_opening_hours</th>\n",
       "    </tr>\n",
       "  </thead>\n",
       "  <tbody>\n",
       "  </tbody>\n",
       "</table>\n",
       "<p>0 rows × 21 columns</p>\n",
       "</div>"
      ],
      "text/plain": [
       "Empty DataFrame\n",
       "Columns: [place_id, place_name, place_types, place_address, place_average_ratings, place_ratings_count, place_reviews_count, place_location, place_website, place_phone_number, place_price_level, place_primary_type, has_delivery, has_dine_in, is_reservable, serves_breakfast, serves_lunch, serves_dinner, serves_beer, serves_wine, places_opening_hours]\n",
       "Index: []\n",
       "\n",
       "[0 rows x 21 columns]"
      ]
     },
     "execution_count": 14,
     "metadata": {},
     "output_type": "execute_result"
    }
   ],
   "source": [
    "nan_types = places_df[places_df['place_primary_type'].isna()]\n",
    "nan_types"
   ]
  },
  {
   "cell_type": "code",
   "execution_count": null,
   "metadata": {},
   "outputs": [],
   "source": []
  }
 ],
 "metadata": {
  "kernelspec": {
   "display_name": ".venv",
   "language": "python",
   "name": "python3"
  },
  "language_info": {
   "codemirror_mode": {
    "name": "ipython",
    "version": 3
   },
   "file_extension": ".py",
   "mimetype": "text/x-python",
   "name": "python",
   "nbconvert_exporter": "python",
   "pygments_lexer": "ipython3",
   "version": "3.12.0"
  }
 },
 "nbformat": 4,
 "nbformat_minor": 2
}
